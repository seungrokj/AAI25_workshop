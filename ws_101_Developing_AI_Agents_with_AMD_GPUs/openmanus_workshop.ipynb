{
 "cells": [
  {
   "cell_type": "markdown",
   "metadata": {},
   "source": [
    "# Workshop Developing AI Agents with AMD GPUs: Build Your OpenManus Agent with MCPs using vLLM, and AMD MI300X GPU\n",
    "\n",
    "Welcome to this hands-on workshop! Throughout this tutorial, we'll leverage AMD GPUs and **Model Context Protocol (MCP)** ,an open standard for exposing LLM tools via API, to deploy powerful language models like Qwen3. Key components:\n",
    "- 🖥️ **vLLM** for GPU-optimized inference\n",
    "- 🛠️ **OpenManus** for agent/tool management\n",
    "- 🔌 **MCP Servers** for pre-built tool integration\n",
    "\n",
    "You'll learn how to set up your environment, deploy large language models like Qwen3, connect them to real-world tools using MCP, and build a conversational agent capable of reasoning and taking actions.\n",
    "\n",
    "By the end of this workshop, you’ll have built an AI-powered Airbnb assistant agent—one that can find a place to stay based on your preferences like location, budget, and travel dates.\n",
    "\n",
    "Let’s dive in!\n",
    "\n",
    "## Table of Contents\n",
    "\n",
    "- [Step 1: Launching vLLM Server on AMD GPUs](#step1)\n",
    "- [Step 2: Installing Dependencies](#step2)\n",
    "- [Step 3: Create a simple instance of OpenManus](#step3)\n",
    "- [Step 4: Tsing MCP server for OpenManus Agent](#step4)\n",
    "- [Step 5: Challenge with Prize](#step5)\n",
    "\n",
    "<a id=\"step1\"></a>\n",
    "\n",
    "## Step 1: Launch a vLLM Server\n",
    "\n",
    "In this workshop we are going to use [vLLM](https://github.com/vllm-project/vllm) as our inference serving engine. vLLM provides many benefits such as fast model execution, extensive list of supported models, easy to use, and best of all it's open-source. \n",
    "\n",
    "### Deploy Qwen3-30B-A3B Model with vLLM"
   ]
  },
  {
   "cell_type": "markdown",
   "metadata": {},
   "source": [
    "\n",
    "Time to start your vLLM server and creating an end-point for your LLM. Let's open a terminal using your Jupyter server. Then run the following command in this terminal to start the vLLM server:\n",
    "\n",
    "> ⚠️ **IMPORTANT:** The following block is **not** a notebook cell.  \n",
    "> Open a new Jupyter tab by clicking on `+`:"
   ]
  },
  {
   "cell_type": "markdown",
   "metadata": {},
   "source": [
    "\n",
    "![rocm-smi](data:image/png;base64,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)"
   ]
  },
  {
   "cell_type": "markdown",
   "metadata": {},
   "source": [
    "> Find the **terminal icon** in your Jupyter environment (not a notebook cell): "
   ]
  },
  {
   "cell_type": "markdown",
   "metadata": {},
   "source": [
    "![rocm-smi](data:image/png;base64,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)"
   ]
  },
  {
   "cell_type": "markdown",
   "metadata": {},
   "source": [
    "> **paste this command to launch your vLLM server:**"
   ]
  },
  {
   "cell_type": "markdown",
   "metadata": {},
   "source": [
    "\n",
    "```bash\n",
    "VLLM_USE_TRITON_FLASH_ATTN=0 \\\n",
    "vllm serve Qwen/Qwen3-30B-A3B \\\n",
    "    --served-model-name Qwen3-30B-A3B \\\n",
    "    --api-key abc-123 \\\n",
    "    --port 8000 \\\n",
    "    --enable-auto-tool-choice \\\n",
    "    --tool-call-parser hermes \\\n",
    "    --trust-remote-code\n",
    "```"
   ]
  },
  {
   "cell_type": "markdown",
   "metadata": {},
   "source": [
    "\n",
    "Open another terminal and monitor the GPU utilization by running this command:\n",
    "\n",
    "```bash\n",
    "watch rocm-smi\n",
    "```\n",
    "\n",
    "Upon successful launch, your server should be accepting incoming traffic through an OpenAI-compatible API. You must see a message such as the one below before moving on:\n",
    "\n",
    "<span style=\"color:red\">\n",
    "INFO: Started server process [210]<br>\n",
    "INFO: Waiting for application startup.<br>\n",
    "INFO: Application startup complete.\n",
    "</span>\n",
    "\n",
    "Let's set some environment variables for our server so we can use throughout this tutorial:"
   ]
  },
  {
   "cell_type": "code",
   "execution_count": null,
   "metadata": {},
   "outputs": [],
   "source": [
    "import os\n",
    "\n",
    "BASE_URL = f\"http://localhost:8000/v1\"\n",
    "\n",
    "os.environ[\"BASE_URL\"]    = BASE_URL\n",
    "os.environ[\"OPENAI_API_KEY\"] = \"abc-123\"   \n",
    "\n",
    "print(\"Config set:\", BASE_URL)"
   ]
  },
  {
   "cell_type": "markdown",
   "metadata": {},
   "source": [
    "We can verify your model is available at the `BASE_URL` we just set by running the following command."
   ]
  },
  {
   "cell_type": "code",
   "execution_count": null,
   "metadata": {},
   "outputs": [],
   "source": [
    "!curl http://localhost:8000/v1/models -H \"Authorization: Bearer $OPENAI_API_KEY\""
   ]
  },
  {
   "cell_type": "markdown",
   "metadata": {},
   "source": [
    "Congratulations, you now just launched a powerful server that can serve any incoming request and allowing you to build amazing applications. Wasn't that easy?🎉 \n",
    "\n",
    "<a id=\"step2\"></a>\n",
    "\n",
    "## Step 2: Installing Dependencies\n",
    "\n",
    "<span style=\"color:red\"><strong>⚠️ WARNING:</strong> You must run the model in Step 1 successfully before moving to this step.</span>\n",
    "\n",
    "We are going to use `OpenManus`. Let's install the dependencies. Note, ideally in your :"
   ]
  },
  {
   "cell_type": "code",
   "execution_count": null,
   "metadata": {},
   "outputs": [],
   "source": [
    "%%bash\n",
    "git clone https://github.com/FoundationAgents/OpenManus.git\n",
    "cd OpenManus\n",
    "apt remove --purge python3-blinker -y\n",
    "pip install browsergym~=0.13.3 --no-deps\n",
    "pip install browser-use~=0.1.40\n",
    "pip install -r requirements.txt \n",
    "playwright install-deps\n",
    "playwright install"
   ]
  },
  {
   "cell_type": "markdown",
   "metadata": {},
   "source": [
    "Change to our project directoy and let's start experimenting."
   ]
  },
  {
   "cell_type": "code",
   "execution_count": null,
   "metadata": {},
   "outputs": [],
   "source": [
    "import os\n",
    "\n",
    "# Change to your desired directory\n",
    "os.chdir('OpenManus')\n",
    "\n",
    "# Verify you're in the new directory\n",
    "print(\"Current directory:\", os.getcwd())"
   ]
  },
  {
   "cell_type": "markdown",
   "metadata": {},
   "source": [
    "\n",
    "<a id=\"step3\"></a>\n",
    "\n",
    "## Step 3: Create a simple instance of OpenManus Agent\n",
    "\n",
    "Let's start by creating a config file and connect OpenAI Compatible endpoint. \n"
   ]
  },
  {
   "cell_type": "code",
   "execution_count": null,
   "metadata": {},
   "outputs": [],
   "source": [
    "config_path = \"./config/config.toml\"\n",
    "\n",
    "config_content = \"\"\"\n",
    "[llm]\n",
    "model = \"Qwen3-30B-A3B\"\n",
    "base_url = \"http://localhost:8000/v1\"\n",
    "api_key = \"abc-123\"\n",
    "max_tokens = 4096\n",
    "temperature = 0.0\n",
    "\n",
    "[browser]\n",
    "headless = true\n",
    "\n",
    "[mcp]\n",
    "server_reference = \"app.mcp.server\"\n",
    "\n",
    "[runflow]\n",
    "use_data_analysis_agent = false\n",
    "\"\"\"\n",
    "\n",
    "# Write the cleaned config\n",
    "with open(config_path, \"w\") as f:\n",
    "    f.write(config_content.strip() + \"\\n\")\n",
    "\n",
    "print(f\"Wrote cleaned config to: {config_path}\")"
   ]
  },
  {
   "cell_type": "markdown",
   "metadata": {},
   "source": [
    "Let's test the OpenManus agent."
   ]
  },
  {
   "cell_type": "code",
   "execution_count": null,
   "metadata": {},
   "outputs": [],
   "source": [
    "!python main.py --prompt \"I am in San Jose, I want to make a Mapo Tofu. Tell me where to get all the ingredients I need.\""
   ]
  },
  {
   "cell_type": "markdown",
   "metadata": {},
   "source": [
    "Next, let's see how we can get some realtime data from our agent."
   ]
  },
  {
   "cell_type": "code",
   "execution_count": null,
   "metadata": {},
   "outputs": [],
   "source": [
    "!python main.py --prompt \"what is the date today\""
   ]
  },
  {
   "cell_type": "markdown",
   "metadata": {},
   "source": [
    "That is great, OpenManus attempts using the tools it has at its disposal to get this information. What if you wanted to use ready to use MCP server? Let's see how we can do this in the next section. "
   ]
  },
  {
   "cell_type": "markdown",
   "metadata": {},
   "source": [
    "\n",
    "\n",
    "<a id=\"step4\"></a>\n",
    "\n",
    "## Step 4: Adding a MCP server\n",
    "\n",
    "Now that we learned how to create a custom tool and provide the agent access to this tool. Let's now explore a trendy topic of [Model Context Protocol](https://modelcontextprotocol.io/introduction). We are going to explore how we can replace our custom tool with a simple MCP server that can serve our agent and provide similar information.\n",
    "\n",
    "**Why MCP?** MCP servers provide:\n",
    "- ✅ Standardized API interfaces\n",
    "- 🔄 Reusable across projects\n",
    "- 📦 Pre-built functionality\n",
    "\n",
    "Let's replace our custom time tool with an official MCP time server:\n",
    "\n",
    "### Installing Time MCP Server\n",
    "\n",
    "We are going to start by installing this MCP server:\n"
   ]
  },
  {
   "cell_type": "code",
   "execution_count": null,
   "metadata": {},
   "outputs": [],
   "source": [
    "!pip install -q mcp-server-time"
   ]
  },
  {
   "cell_type": "markdown",
   "metadata": {},
   "source": [
    "Let's create our MCP config file. Start by creating the variable."
   ]
  },
  {
   "cell_type": "code",
   "execution_count": null,
   "metadata": {},
   "outputs": [],
   "source": [
    "mcp_info = {\n",
    "  \"mcpServers\": {\n",
    "    \"time\": {\n",
    "      \"type\": \"stdio\",\n",
    "      \"command\": \"python\",\n",
    "      \"args\": [\"-m\", \"mcp_server_time\", \"--local-timezone=America/New_York\"]\n",
    "    }\n",
    "  }\n",
    "}"
   ]
  },
  {
   "cell_type": "markdown",
   "metadata": {},
   "source": [
    "Then write it as `mcp.json` under `config` directory."
   ]
  },
  {
   "cell_type": "code",
   "execution_count": null,
   "metadata": {},
   "outputs": [],
   "source": [
    "## create the mcp.json under OpenManus/config/mcp.json\n",
    "import json\n",
    "\n",
    "# Write mcp.json file\n",
    "with open(\"config/mcp.json\", \"w\") as f:\n",
    "    json.dump(mcp_info, f, indent=2)"
   ]
  },
  {
   "cell_type": "markdown",
   "metadata": {
    "vscode": {
     "languageId": "plaintext"
    }
   },
   "source": [
    "Great, let's see if the agent can use the MCP to give us the correct time now."
   ]
  },
  {
   "cell_type": "code",
   "execution_count": null,
   "metadata": {},
   "outputs": [],
   "source": [
    "!python main.py --prompt \"Tell me the time in San Francisco\""
   ]
  },
  {
   "cell_type": "markdown",
   "metadata": {},
   "source": [
    "\n",
    "Tadaa! Now you have officially used an MCP server to power-up your agent. In the next section we show how you can your turn many ideas into real working projects by using 100s of free or paid MCP servers available today.\n",
    "\n",
    "\n",
    "\n",
    "<a id=\"step6\"></a>\n",
    "\n",
    "## Step 5: Turn your agent to Multi-MCP user\n",
    "\n",
    "As we experience in the last section, MCP servers are really easy to use and they provide a standard way of providing LLMs the tools we need. There are already thousands of MCP servers available for us to use. There are some MCP trackers that you can always use to find out about available servers. Here are some for your reference:\n",
    "- https://github.com/modelcontextprotocol/servers\n",
    "- https://mcp.so/\n"
   ]
  },
  {
   "cell_type": "markdown",
   "metadata": {},
   "source": [
    "\n",
    "\n",
    "In this part of the workshop we are going to build an agent that can help you browse available Airbnbs to book. We can now build on top of what we have so far and add an open-source Airbnb MCP server to our agent. To do so, let's start by defining our Airbnb server."
   ]
  },
  {
   "cell_type": "code",
   "execution_count": null,
   "metadata": {},
   "outputs": [],
   "source": [
    "# Install Node.js 18 via NodeSource\n",
    "!curl -fsSL https://deb.nodesource.com/setup_18.x | sudo -E bash -\n",
    "!apt install -y nodejs"
   ]
  },
  {
   "cell_type": "markdown",
   "metadata": {},
   "source": [
    "Let's verify our installation."
   ]
  },
  {
   "cell_type": "code",
   "execution_count": null,
   "metadata": {},
   "outputs": [],
   "source": [
    "!node -v && npm -v && npx --version"
   ]
  },
  {
   "cell_type": "markdown",
   "metadata": {},
   "source": [
    "Let's update our agent."
   ]
  },
  {
   "cell_type": "code",
   "execution_count": null,
   "metadata": {},
   "outputs": [],
   "source": [
    "mcp_info = {\n",
    "    \"mcpServers\": {\n",
    "        \"time\": {\n",
    "            \"type\": \"stdio\",\n",
    "            \"command\": \"python\",\n",
    "            \"args\": [\n",
    "                \"-m\",\n",
    "                \"mcp_server_time\",\n",
    "                \"--local-timezone=America/New_York\"\n",
    "            ]\n",
    "        },\n",
    "        \"airbnb\": {\n",
    "            \"type\": \"stdio\", \n",
    "            \"command\": \"npx\",\n",
    "            \"args\": [\n",
    "                \"-y\",\n",
    "                \"@openbnb/mcp-server-airbnb\",\n",
    "                \"--ignore-robots-txt\"\n",
    "            ]\n",
    "        }\n",
    "    }\n",
    "}"
   ]
  },
  {
   "cell_type": "markdown",
   "metadata": {},
   "source": [
    "Now we need to write our updsated config file under `config` directory."
   ]
  },
  {
   "cell_type": "code",
   "execution_count": null,
   "metadata": {},
   "outputs": [],
   "source": [
    "## create the mcp.json under OpenManus/config/mcp.json\n",
    "import json\n",
    "# Write mcp.json file\n",
    "with open(\"config/mcp.json\", \"w\") as f:\n",
    "    json.dump(mcp_info, f, indent=2)"
   ]
  },
  {
   "cell_type": "markdown",
   "metadata": {},
   "source": [
    "Finally, let's try our agent and see if it can browse through Airbnb listings.Time to test."
   ]
  },
  {
   "cell_type": "code",
   "execution_count": null,
   "metadata": {},
   "outputs": [],
   "source": [
    "!python main.py --prompt \"Find a place to stay in Vancouver for next Sunday for 3 nights for 2 adults?\""
   ]
  },
  {
   "cell_type": "markdown",
   "metadata": {},
   "source": [
    "\n",
    "\n",
    "<a id=\"step7\"></a>\n",
    "\n",
    "## Step 7: Challenge - Expand the Agent\n",
    "\n",
    "**Task:** Add weather integration using an appropiate MCP server:\n",
    "1. Launch weather MCP server\n",
    "2. Add to agent's tools\n",
    "3. Make agent suggest best travel dates based on weather\n",
    "\n",
    "**Judging Criteria:**\n",
    "✅ Functional weather integration\n",
    "🎯 Logical tool selection\n",
    "💡 Creative use of multiple tools\n",
    "\n",
    "<span style=\"color:red\"><strong>⚠️ FINAL STEP:</strong> When you're done, make sure to stop the model and free GPU resources by pressing <code>Ctrl+C</code> in the terminal where the server is running.</span>\n"
   ]
  }
 ],
 "metadata": {
  "kernelspec": {
   "display_name": "Python 3 (ipykernel)",
   "language": "python",
   "name": "python3"
  },
  "language_info": {
   "codemirror_mode": {
    "name": "ipython",
    "version": 3
   },
   "file_extension": ".py",
   "mimetype": "text/x-python",
   "name": "python",
   "nbconvert_exporter": "python",
   "pygments_lexer": "ipython3",
   "version": "3.12.10"
  }
 },
 "nbformat": 4,
 "nbformat_minor": 4
}
